{
 "cells": [
  {
   "cell_type": "code",
   "execution_count": 1,
   "metadata": {},
   "outputs": [],
   "source": [
    "from utilities import *\n",
    "import requests\n",
    "import json"
   ]
  },
  {
   "cell_type": "markdown",
   "metadata": {},
   "source": [
    "### Example `generate_story_prompt()`"
   ]
  },
  {
   "cell_type": "code",
   "execution_count": 2,
   "metadata": {},
   "outputs": [
    {
     "data": {
      "text/plain": [
       "{'system': \"You are a choose your own adventure story writer. \\nGiven the reader's past storyline and decisions, you will need to continue the story from where it left off. \\n\\nDO NOT provide the reader with USER DECISIONS. Your ONLY job is to write the story, NOT the decisions.\",\n",
       " 'content': ['This is an example stage', 'You decided to continue the story']}"
      ]
     },
     "execution_count": 2,
     "metadata": {},
     "output_type": "execute_result"
    }
   ],
   "source": [
    "test_story = {\"content\":[\"This is an example stage\", \"You decided to continue the story\"]}\n",
    "\n",
    "generate_story_prompt(test_story)"
   ]
  },
  {
   "cell_type": "markdown",
   "metadata": {},
   "source": [
    "### Example `generate_decisions()`"
   ]
  },
  {
   "cell_type": "code",
   "execution_count": 3,
   "metadata": {},
   "outputs": [
    {
     "data": {
      "text/plain": [
       "{'decisions': ['Search for a light source',\n",
       "  'Scream for help',\n",
       "  'Feel your way around the basement']}"
      ]
     },
     "execution_count": 3,
     "metadata": {},
     "output_type": "execute_result"
    }
   ],
   "source": [
    "test_story = {\"content\":[\"This is an example stage, you wake up in a dark basement lost and alone.\"]}\n",
    "\n",
    "generate_decisions(test_story)"
   ]
  },
  {
   "cell_type": "markdown",
   "metadata": {},
   "source": [
    "### Test API"
   ]
  },
  {
   "cell_type": "code",
   "execution_count": 5,
   "metadata": {},
   "outputs": [
    {
     "name": "stdout",
     "output_type": "stream",
     "text": [
      "Story Prompt Response: {'system': \"You are a choose your own adventure story writer. \\nGiven the reader's past storyline and decisions, you will need to continue the story from where it left off. \\n\\nDO NOT provide the reader with USER DECISIONS. Your ONLY job is to write the story, NOT the decisions.\", 'content': ['This is an example stage', 'You decided to continue the story']}\n",
      "Decisions Response: {'decisions': ['Search for a light source', 'Scream for help', 'Feel around for a door or stairs']}\n"
     ]
    }
   ],
   "source": [
    "base_url = \"http://10.1.61.213:8000\"\n",
    "\n",
    "test_story = {\"content\":[\"This is an example stage\", \"You decided to continue the story\"]}\n",
    "test_decision = {\"content\":[\"This is an example stage, you wake up in a dark basement lost and alone.\"]}\n",
    "\n",
    "\n",
    "\n",
    "def query_gen_story_prompt():\n",
    "    response = requests.post(f\"{base_url}/gen-story-prompt\", json=test_story)\n",
    "    if response.status_code == 200:\n",
    "        print(\"Story Prompt Response:\", response.json())\n",
    "    else:\n",
    "        print(\"Error:\", response.status_code, response.text)\n",
    "\n",
    "\n",
    "def query_gen_decisions():\n",
    "    response = requests.post(f\"{base_url}/gen-decisions\", json=test_decision)\n",
    "    if response.status_code == 200:\n",
    "        print(\"Decisions Response:\", response.json())\n",
    "    else:\n",
    "        print(\"Error:\", response.status_code, response.text)\n",
    "\n",
    "\n",
    "# Query the endpoints\n",
    "query_gen_story_prompt()\n",
    "query_gen_decisions()"
   ]
  }
 ],
 "metadata": {
  "kernelspec": {
   "display_name": "cyoa",
   "language": "python",
   "name": "python3"
  },
  "language_info": {
   "codemirror_mode": {
    "name": "ipython",
    "version": 3
   },
   "file_extension": ".py",
   "mimetype": "text/x-python",
   "name": "python",
   "nbconvert_exporter": "python",
   "pygments_lexer": "ipython3",
   "version": "3.11.8"
  }
 },
 "nbformat": 4,
 "nbformat_minor": 2
}
